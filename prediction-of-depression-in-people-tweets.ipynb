{
 "cells": [
  {
   "cell_type": "markdown",
   "id": "bb232847",
   "metadata": {
    "papermill": {
     "duration": 0.008632,
     "end_time": "2022-08-26T19:28:39.170680",
     "exception": false,
     "start_time": "2022-08-26T19:28:39.162048",
     "status": "completed"
    },
    "tags": []
   },
   "source": [
    "#  **Explaining the Dataset**\n",
    " We took a dataset containing numerous tweets from the twitter users. And here our aim is to detect or rather the better term would be to predict the depression amongst them. Here, first we will import some of the library frequently used to import data and perform some of the basic data operation. So for simplicity, we will import pandas for EDA, matplotlib and seaborn for visualization, os for operating system operations. "
   ]
  },
  {
   "cell_type": "code",
   "execution_count": 1,
   "id": "74ec2304",
   "metadata": {
    "execution": {
     "iopub.execute_input": "2022-08-26T19:28:39.189793Z",
     "iopub.status.busy": "2022-08-26T19:28:39.186904Z",
     "iopub.status.idle": "2022-08-26T19:28:40.449940Z",
     "shell.execute_reply": "2022-08-26T19:28:40.448486Z"
    },
    "papermill": {
     "duration": 1.275097,
     "end_time": "2022-08-26T19:28:40.453204",
     "exception": false,
     "start_time": "2022-08-26T19:28:39.178107",
     "status": "completed"
    },
    "tags": []
   },
   "outputs": [
    {
     "name": "stdout",
     "output_type": "stream",
     "text": [
      "/kaggle/input/mental-health-social-media/Mental-Health-Twitter.csv\n"
     ]
    }
   ],
   "source": [
    "import pandas as pd # data processing, CSV file I/O (e.g. pd.read_csv)\n",
    "import matplotlib.pyplot as plt\n",
    "import seaborn as sns\n",
    "import os\n",
    "for dirname, _, filenames in os.walk('/kaggle/input'):\n",
    "    for filename in filenames:\n",
    "        print(os.path.join(dirname, filename))"
   ]
  },
  {
   "cell_type": "code",
   "execution_count": 2,
   "id": "dc0ad0fd",
   "metadata": {
    "execution": {
     "iopub.execute_input": "2022-08-26T19:28:40.470284Z",
     "iopub.status.busy": "2022-08-26T19:28:40.469785Z",
     "iopub.status.idle": "2022-08-26T19:28:40.649716Z",
     "shell.execute_reply": "2022-08-26T19:28:40.648719Z"
    },
    "papermill": {
     "duration": 0.192012,
     "end_time": "2022-08-26T19:28:40.652783",
     "exception": false,
     "start_time": "2022-08-26T19:28:40.460771",
     "status": "completed"
    },
    "tags": []
   },
   "outputs": [],
   "source": [
    "data=pd.read_csv(\"/kaggle/input/mental-health-social-media/Mental-Health-Twitter.csv\",index_col=0)"
   ]
  },
  {
   "cell_type": "code",
   "execution_count": 3,
   "id": "d8f910b1",
   "metadata": {
    "execution": {
     "iopub.execute_input": "2022-08-26T19:28:40.674318Z",
     "iopub.status.busy": "2022-08-26T19:28:40.672903Z",
     "iopub.status.idle": "2022-08-26T19:28:40.696560Z",
     "shell.execute_reply": "2022-08-26T19:28:40.695229Z"
    },
    "papermill": {
     "duration": 0.035731,
     "end_time": "2022-08-26T19:28:40.699246",
     "exception": false,
     "start_time": "2022-08-26T19:28:40.663515",
     "status": "completed"
    },
    "tags": []
   },
   "outputs": [
    {
     "data": {
      "text/html": [
       "<div>\n",
       "<style scoped>\n",
       "    .dataframe tbody tr th:only-of-type {\n",
       "        vertical-align: middle;\n",
       "    }\n",
       "\n",
       "    .dataframe tbody tr th {\n",
       "        vertical-align: top;\n",
       "    }\n",
       "\n",
       "    .dataframe thead th {\n",
       "        text-align: right;\n",
       "    }\n",
       "</style>\n",
       "<table border=\"1\" class=\"dataframe\">\n",
       "  <thead>\n",
       "    <tr style=\"text-align: right;\">\n",
       "      <th></th>\n",
       "      <th>post_id</th>\n",
       "      <th>post_created</th>\n",
       "      <th>post_text</th>\n",
       "      <th>user_id</th>\n",
       "      <th>followers</th>\n",
       "      <th>friends</th>\n",
       "      <th>favourites</th>\n",
       "      <th>statuses</th>\n",
       "      <th>retweets</th>\n",
       "      <th>label</th>\n",
       "    </tr>\n",
       "  </thead>\n",
       "  <tbody>\n",
       "    <tr>\n",
       "      <th>0</th>\n",
       "      <td>637894677824413696</td>\n",
       "      <td>Sun Aug 30 07:48:37 +0000 2015</td>\n",
       "      <td>It's just over 2 years since I was diagnosed w...</td>\n",
       "      <td>1013187241</td>\n",
       "      <td>84</td>\n",
       "      <td>211</td>\n",
       "      <td>251</td>\n",
       "      <td>837</td>\n",
       "      <td>0</td>\n",
       "      <td>1</td>\n",
       "    </tr>\n",
       "    <tr>\n",
       "      <th>1</th>\n",
       "      <td>637890384576778240</td>\n",
       "      <td>Sun Aug 30 07:31:33 +0000 2015</td>\n",
       "      <td>It's Sunday, I need a break, so I'm planning t...</td>\n",
       "      <td>1013187241</td>\n",
       "      <td>84</td>\n",
       "      <td>211</td>\n",
       "      <td>251</td>\n",
       "      <td>837</td>\n",
       "      <td>1</td>\n",
       "      <td>1</td>\n",
       "    </tr>\n",
       "    <tr>\n",
       "      <th>2</th>\n",
       "      <td>637749345908051968</td>\n",
       "      <td>Sat Aug 29 22:11:07 +0000 2015</td>\n",
       "      <td>Awake but tired. I need to sleep but my brain ...</td>\n",
       "      <td>1013187241</td>\n",
       "      <td>84</td>\n",
       "      <td>211</td>\n",
       "      <td>251</td>\n",
       "      <td>837</td>\n",
       "      <td>0</td>\n",
       "      <td>1</td>\n",
       "    </tr>\n",
       "    <tr>\n",
       "      <th>3</th>\n",
       "      <td>637696421077123073</td>\n",
       "      <td>Sat Aug 29 18:40:49 +0000 2015</td>\n",
       "      <td>RT @SewHQ: #Retro bears make perfect gifts and...</td>\n",
       "      <td>1013187241</td>\n",
       "      <td>84</td>\n",
       "      <td>211</td>\n",
       "      <td>251</td>\n",
       "      <td>837</td>\n",
       "      <td>2</td>\n",
       "      <td>1</td>\n",
       "    </tr>\n",
       "    <tr>\n",
       "      <th>4</th>\n",
       "      <td>637696327485366272</td>\n",
       "      <td>Sat Aug 29 18:40:26 +0000 2015</td>\n",
       "      <td>It’s hard to say whether packing lists are mak...</td>\n",
       "      <td>1013187241</td>\n",
       "      <td>84</td>\n",
       "      <td>211</td>\n",
       "      <td>251</td>\n",
       "      <td>837</td>\n",
       "      <td>1</td>\n",
       "      <td>1</td>\n",
       "    </tr>\n",
       "  </tbody>\n",
       "</table>\n",
       "</div>"
      ],
      "text/plain": [
       "              post_id                    post_created  \\\n",
       "0  637894677824413696  Sun Aug 30 07:48:37 +0000 2015   \n",
       "1  637890384576778240  Sun Aug 30 07:31:33 +0000 2015   \n",
       "2  637749345908051968  Sat Aug 29 22:11:07 +0000 2015   \n",
       "3  637696421077123073  Sat Aug 29 18:40:49 +0000 2015   \n",
       "4  637696327485366272  Sat Aug 29 18:40:26 +0000 2015   \n",
       "\n",
       "                                           post_text     user_id  followers  \\\n",
       "0  It's just over 2 years since I was diagnosed w...  1013187241         84   \n",
       "1  It's Sunday, I need a break, so I'm planning t...  1013187241         84   \n",
       "2  Awake but tired. I need to sleep but my brain ...  1013187241         84   \n",
       "3  RT @SewHQ: #Retro bears make perfect gifts and...  1013187241         84   \n",
       "4  It’s hard to say whether packing lists are mak...  1013187241         84   \n",
       "\n",
       "   friends  favourites  statuses  retweets  label  \n",
       "0      211         251       837         0      1  \n",
       "1      211         251       837         1      1  \n",
       "2      211         251       837         0      1  \n",
       "3      211         251       837         2      1  \n",
       "4      211         251       837         1      1  "
      ]
     },
     "execution_count": 3,
     "metadata": {},
     "output_type": "execute_result"
    }
   ],
   "source": [
    "data.head()"
   ]
  },
  {
   "cell_type": "markdown",
   "id": "d5dfeb13",
   "metadata": {
    "papermill": {
     "duration": 0.007175,
     "end_time": "2022-08-26T19:28:40.714040",
     "exception": false,
     "start_time": "2022-08-26T19:28:40.706865",
     "status": "completed"
    },
    "tags": []
   },
   "source": [
    "#  Giving an overview of the data and getting simple data understanding \n",
    "Here the data  contains columns like post_created which is a date-time data, post-text which is a text data corpus from the actual tweets, user_id,post_id, followers and friends of the respective data. The count of favorite contents of the user in twitter as well as their status, retweets, and the output as label which determines that this is a problem of a supervised learning.  "
   ]
  },
  {
   "cell_type": "code",
   "execution_count": 4,
   "id": "1ccd3b05",
   "metadata": {
    "execution": {
     "iopub.execute_input": "2022-08-26T19:28:40.731933Z",
     "iopub.status.busy": "2022-08-26T19:28:40.730919Z",
     "iopub.status.idle": "2022-08-26T19:28:40.948382Z",
     "shell.execute_reply": "2022-08-26T19:28:40.947464Z"
    },
    "papermill": {
     "duration": 0.229588,
     "end_time": "2022-08-26T19:28:40.951076",
     "exception": false,
     "start_time": "2022-08-26T19:28:40.721488",
     "status": "completed"
    },
    "tags": []
   },
   "outputs": [
    {
     "data": {
      "text/plain": [
       "<AxesSubplot:xlabel='label', ylabel='count'>"
      ]
     },
     "execution_count": 4,
     "metadata": {},
     "output_type": "execute_result"
    },
    {
     "data": {
      "image/png": "[encoded data removed]",
      "text/plain": [
       "<Figure size 432x288 with 1 Axes>"
      ]
     },
     "metadata": {
      "needs_background": "light"
     },
     "output_type": "display_data"
    }
   ],
   "source": [
    "sns.countplot(data=data,x='label')"
   ]
  },
  {
   "cell_type": "markdown",
   "id": "4b72d2b9",
   "metadata": {
    "papermill": {
     "duration": 0.008408,
     "end_time": "2022-08-26T19:28:40.968226",
     "exception": false,
     "start_time": "2022-08-26T19:28:40.959818",
     "status": "completed"
    },
    "tags": []
   },
   "source": [
    "From the above plot, it is obvious that the dataset is balanced which means that the number of depressed people and non-depressed people are appearing to be equally distributed in this specific dataset."
   ]
  },
  {
   "cell_type": "code",
   "execution_count": 5,
   "id": "e73f839b",
   "metadata": {
    "execution": {
     "iopub.execute_input": "2022-08-26T19:28:40.986972Z",
     "iopub.status.busy": "2022-08-26T19:28:40.985819Z",
     "iopub.status.idle": "2022-08-26T19:28:42.231438Z",
     "shell.execute_reply": "2022-08-26T19:28:42.229930Z"
    },
    "papermill": {
     "duration": 1.257665,
     "end_time": "2022-08-26T19:28:42.234207",
     "exception": false,
     "start_time": "2022-08-26T19:28:40.976542",
     "status": "completed"
    },
    "tags": []
   },
   "outputs": [
    {
     "name": "stderr",
     "output_type": "stream",
     "text": [
      "[nltk_data] Downloading package omw-1.4 to /usr/share/nltk_data...\n"
     ]
    },
    {
     "data": {
      "text/plain": [
       "True"
      ]
     },
     "execution_count": 5,
     "metadata": {},
     "output_type": "execute_result"
    }
   ],
   "source": [
    "import re\n",
    "import nltk\n",
    "nltk.download('omw-1.4')"
   ]
  },
  {
   "cell_type": "markdown",
   "id": "e9518182",
   "metadata": {
    "papermill": {
     "duration": 0.008311,
     "end_time": "2022-08-26T19:28:42.251050",
     "exception": false,
     "start_time": "2022-08-26T19:28:42.242739",
     "status": "completed"
    },
    "tags": []
   },
   "source": [
    "We here are going to take up an approach of natural language processing. So we will be importing re module which is a regular expression modules and nltk module which is an NLP library for working with the text."
   ]
  },
  {
   "cell_type": "code",
   "execution_count": 6,
   "id": "ca5b5d68",
   "metadata": {
    "execution": {
     "iopub.execute_input": "2022-08-26T19:28:42.271797Z",
     "iopub.status.busy": "2022-08-26T19:28:42.270924Z",
     "iopub.status.idle": "2022-08-26T19:28:42.283979Z",
     "shell.execute_reply": "2022-08-26T19:28:42.282519Z"
    },
    "papermill": {
     "duration": 0.026373,
     "end_time": "2022-08-26T19:28:42.287010",
     "exception": false,
     "start_time": "2022-08-26T19:28:42.260637",
     "status": "completed"
    },
    "tags": []
   },
   "outputs": [
    {
     "name": "stderr",
     "output_type": "stream",
     "text": [
      "[nltk_data] Downloading package stopwords to /usr/share/nltk_data...\n",
      "[nltk_data]   Package stopwords is already up-to-date!\n"
     ]
    }
   ],
   "source": [
    "nltk.download(\"stopwords\")\n",
    "from nltk.corpus import stopwords"
   ]
  },
  {
   "cell_type": "code",
   "execution_count": 7,
   "id": "517cd27c",
   "metadata": {
    "execution": {
     "iopub.execute_input": "2022-08-26T19:28:42.307668Z",
     "iopub.status.busy": "2022-08-26T19:28:42.306621Z",
     "iopub.status.idle": "2022-08-26T19:28:42.312961Z",
     "shell.execute_reply": "2022-08-26T19:28:42.311452Z"
    },
    "papermill": {
     "duration": 0.019703,
     "end_time": "2022-08-26T19:28:42.315789",
     "exception": false,
     "start_time": "2022-08-26T19:28:42.296086",
     "status": "completed"
    },
    "tags": []
   },
   "outputs": [],
   "source": [
    "lemm=nltk.WordNetLemmatizer()"
   ]
  },
  {
   "cell_type": "code",
   "execution_count": 8,
   "id": "110b6eee",
   "metadata": {
    "execution": {
     "iopub.execute_input": "2022-08-26T19:28:42.335637Z",
     "iopub.status.busy": "2022-08-26T19:28:42.335092Z",
     "iopub.status.idle": "2022-08-26T19:28:56.344290Z",
     "shell.execute_reply": "2022-08-26T19:28:56.342997Z"
    },
    "papermill": {
     "duration": 14.022988,
     "end_time": "2022-08-26T19:28:56.347441",
     "exception": false,
     "start_time": "2022-08-26T19:28:42.324453",
     "status": "completed"
    },
    "tags": []
   },
   "outputs": [],
   "source": [
    "text_list=[]\n",
    "for text in data.post_text:\n",
    "    des=re.sub('[^A-Za-z]',' ',text)\n",
    "    des=des.lower()\n",
    "    des=nltk.word_tokenize(text)\n",
    "    des=[lemm.lemmatize(word) for word in text]\n",
    "    des=''.join(des)\n",
    "    text_list.append(des)"
   ]
  },
  {
   "cell_type": "markdown",
   "id": "b0121874",
   "metadata": {
    "papermill": {
     "duration": 0.007829,
     "end_time": "2022-08-26T19:28:56.363791",
     "exception": false,
     "start_time": "2022-08-26T19:28:56.355962",
     "status": "completed"
    },
    "tags": []
   },
   "source": [
    "# Operations performed in the post_text dataset\n",
    "In this, we first removed the words without letters, and also the random white spaces are removed used regular expressions. Next we changed the words into lowercase so that all the words get in equal composition. Then we performed the word_tokenizer so that the words are converted into tokens. Then we cleaning the extra words using lemmatizer. And further joined the word obtained in the text_list."
   ]
  },
  {
   "cell_type": "code",
   "execution_count": 9,
   "id": "8e5cb29b",
   "metadata": {
    "execution": {
     "iopub.execute_input": "2022-08-26T19:28:56.382296Z",
     "iopub.status.busy": "2022-08-26T19:28:56.381853Z",
     "iopub.status.idle": "2022-08-26T19:28:56.868109Z",
     "shell.execute_reply": "2022-08-26T19:28:56.866916Z"
    },
    "papermill": {
     "duration": 0.498903,
     "end_time": "2022-08-26T19:28:56.871121",
     "exception": false,
     "start_time": "2022-08-26T19:28:56.372218",
     "status": "completed"
    },
    "tags": []
   },
   "outputs": [],
   "source": [
    "from sklearn.feature_extraction.text import CountVectorizer\n",
    "count_vectorizer=CountVectorizer(max_features=800,stop_words=\"english\")\n",
    "sparce_matrix=count_vectorizer.fit_transform(text_list).toarray()"
   ]
  },
  {
   "cell_type": "code",
   "execution_count": 10,
   "id": "6d2fe323",
   "metadata": {
    "execution": {
     "iopub.execute_input": "2022-08-26T19:28:56.889133Z",
     "iopub.status.busy": "2022-08-26T19:28:56.888706Z",
     "iopub.status.idle": "2022-08-26T19:28:56.894743Z",
     "shell.execute_reply": "2022-08-26T19:28:56.893308Z"
    },
    "papermill": {
     "duration": 0.018061,
     "end_time": "2022-08-26T19:28:56.897341",
     "exception": false,
     "start_time": "2022-08-26T19:28:56.879280",
     "status": "completed"
    },
    "tags": []
   },
   "outputs": [],
   "source": [
    "X=sparce_matrix\n",
    "y=data['label'].values"
   ]
  },
  {
   "cell_type": "code",
   "execution_count": 11,
   "id": "5de63169",
   "metadata": {
    "execution": {
     "iopub.execute_input": "2022-08-26T19:28:56.915937Z",
     "iopub.status.busy": "2022-08-26T19:28:56.915171Z",
     "iopub.status.idle": "2022-08-26T19:28:56.997567Z",
     "shell.execute_reply": "2022-08-26T19:28:56.996185Z"
    },
    "papermill": {
     "duration": 0.0948,
     "end_time": "2022-08-26T19:28:57.000525",
     "exception": false,
     "start_time": "2022-08-26T19:28:56.905725",
     "status": "completed"
    },
    "tags": []
   },
   "outputs": [],
   "source": [
    "from sklearn.model_selection import train_test_split\n",
    "\n",
    "X_train,X_test,y_train,y_test=train_test_split(X,y,test_size=0.3,random_state=42)"
   ]
  },
  {
   "cell_type": "markdown",
   "id": "b91cf3e2",
   "metadata": {
    "papermill": {
     "duration": 0.008055,
     "end_time": "2022-08-26T19:28:57.016896",
     "exception": false,
     "start_time": "2022-08-26T19:28:57.008841",
     "status": "completed"
    },
    "tags": []
   },
   "source": [
    "# Applying Logistic Regression"
   ]
  },
  {
   "cell_type": "code",
   "execution_count": 12,
   "id": "53dbb512",
   "metadata": {
    "execution": {
     "iopub.execute_input": "2022-08-26T19:28:57.036169Z",
     "iopub.status.busy": "2022-08-26T19:28:57.035740Z",
     "iopub.status.idle": "2022-08-26T19:28:58.226389Z",
     "shell.execute_reply": "2022-08-26T19:28:58.224702Z"
    },
    "papermill": {
     "duration": 1.204649,
     "end_time": "2022-08-26T19:28:58.230148",
     "exception": false,
     "start_time": "2022-08-26T19:28:57.025499",
     "status": "completed"
    },
    "tags": []
   },
   "outputs": [
    {
     "data": {
      "text/plain": [
       "LogisticRegression()"
      ]
     },
     "execution_count": 12,
     "metadata": {},
     "output_type": "execute_result"
    }
   ],
   "source": [
    "from sklearn.linear_model import LogisticRegression\n",
    "lr=LogisticRegression()\n",
    "lr.fit(X_train,y_train)"
   ]
  },
  {
   "cell_type": "code",
   "execution_count": 13,
   "id": "eb2c132a",
   "metadata": {
    "execution": {
     "iopub.execute_input": "2022-08-26T19:28:58.276041Z",
     "iopub.status.busy": "2022-08-26T19:28:58.275241Z",
     "iopub.status.idle": "2022-08-26T19:28:58.393392Z",
     "shell.execute_reply": "2022-08-26T19:28:58.391766Z"
    },
    "papermill": {
     "duration": 0.148592,
     "end_time": "2022-08-26T19:28:58.400319",
     "exception": false,
     "start_time": "2022-08-26T19:28:58.251727",
     "status": "completed"
    },
    "tags": []
   },
   "outputs": [
    {
     "name": "stdout",
     "output_type": "stream",
     "text": [
      "The train Score for Logistic Regression is:  0.8424285714285714\n",
      "The test score for Logistic Regression is:  0.7995\n"
     ]
    }
   ],
   "source": [
    "print('The train Score for Logistic Regression is: ',lr.score(X_train,y_train))\n",
    "print('The test score for Logistic Regression is: ', lr.score(X_test,y_test))"
   ]
  },
  {
   "cell_type": "markdown",
   "id": "bf057f14",
   "metadata": {
    "papermill": {
     "duration": 0.020763,
     "end_time": "2022-08-26T19:28:58.442489",
     "exception": false,
     "start_time": "2022-08-26T19:28:58.421726",
     "status": "completed"
    },
    "tags": []
   },
   "source": [
    "# Applying Support Vector Machine"
   ]
  },
  {
   "cell_type": "code",
   "execution_count": 14,
   "id": "1ecb6d8e",
   "metadata": {
    "execution": {
     "iopub.execute_input": "2022-08-26T19:28:58.488857Z",
     "iopub.status.busy": "2022-08-26T19:28:58.488077Z",
     "iopub.status.idle": "2022-08-26T19:28:58.496827Z",
     "shell.execute_reply": "2022-08-26T19:28:58.495095Z"
    },
    "papermill": {
     "duration": 0.036925,
     "end_time": "2022-08-26T19:28:58.501014",
     "exception": false,
     "start_time": "2022-08-26T19:28:58.464089",
     "status": "completed"
    },
    "tags": []
   },
   "outputs": [],
   "source": [
    "from sklearn.svm import SVC\n",
    "sv=SVC(C=0.73,kernel='rbf',degree=4)"
   ]
  },
  {
   "cell_type": "code",
   "execution_count": 15,
   "id": "e7fc45e1",
   "metadata": {
    "execution": {
     "iopub.execute_input": "2022-08-26T19:28:58.523809Z",
     "iopub.status.busy": "2022-08-26T19:28:58.523306Z",
     "iopub.status.idle": "2022-08-26T19:30:44.618693Z",
     "shell.execute_reply": "2022-08-26T19:30:44.617312Z"
    },
    "papermill": {
     "duration": 106.116193,
     "end_time": "2022-08-26T19:30:44.629927",
     "exception": false,
     "start_time": "2022-08-26T19:28:58.513734",
     "status": "completed"
    },
    "tags": []
   },
   "outputs": [
    {
     "data": {
      "text/plain": [
       "SVC(C=0.73, degree=4)"
      ]
     },
     "execution_count": 15,
     "metadata": {},
     "output_type": "execute_result"
    }
   ],
   "source": [
    "sv.fit(X_train,y_train)"
   ]
  },
  {
   "cell_type": "code",
   "execution_count": 16,
   "id": "e2273d82",
   "metadata": {
    "execution": {
     "iopub.execute_input": "2022-08-26T19:30:44.650257Z",
     "iopub.status.busy": "2022-08-26T19:30:44.649869Z",
     "iopub.status.idle": "2022-08-26T19:32:45.693819Z",
     "shell.execute_reply": "2022-08-26T19:32:45.692624Z"
    },
    "papermill": {
     "duration": 121.066454,
     "end_time": "2022-08-26T19:32:45.705587",
     "exception": false,
     "start_time": "2022-08-26T19:30:44.639133",
     "status": "completed"
    },
    "tags": []
   },
   "outputs": [
    {
     "data": {
      "text/plain": [
       "0.8947857142857143"
      ]
     },
     "execution_count": 16,
     "metadata": {},
     "output_type": "execute_result"
    }
   ],
   "source": [
    "sv.score(X_train,y_train)\n"
   ]
  },
  {
   "cell_type": "code",
   "execution_count": 17,
   "id": "d54ec5fe",
   "metadata": {
    "execution": {
     "iopub.execute_input": "2022-08-26T19:32:45.725070Z",
     "iopub.status.busy": "2022-08-26T19:32:45.724666Z",
     "iopub.status.idle": "2022-08-26T19:33:39.353821Z",
     "shell.execute_reply": "2022-08-26T19:33:39.352380Z"
    },
    "papermill": {
     "duration": 53.651727,
     "end_time": "2022-08-26T19:33:39.366064",
     "exception": false,
     "start_time": "2022-08-26T19:32:45.714337",
     "status": "completed"
    },
    "tags": []
   },
   "outputs": [
    {
     "data": {
      "text/plain": [
       "0.8033333333333333"
      ]
     },
     "execution_count": 17,
     "metadata": {},
     "output_type": "execute_result"
    }
   ],
   "source": [
    "sv.score(X_test,y_test)"
   ]
  },
  {
   "cell_type": "markdown",
   "id": "b7f5367c",
   "metadata": {
    "papermill": {
     "duration": 0.008769,
     "end_time": "2022-08-26T19:33:39.383966",
     "exception": false,
     "start_time": "2022-08-26T19:33:39.375197",
     "status": "completed"
    },
    "tags": []
   },
   "source": [
    "# Applying Deep Learning Techniques"
   ]
  },
  {
   "cell_type": "code",
   "execution_count": 18,
   "id": "9e8c0016",
   "metadata": {
    "execution": {
     "iopub.execute_input": "2022-08-26T19:33:39.406801Z",
     "iopub.status.busy": "2022-08-26T19:33:39.404199Z",
     "iopub.status.idle": "2022-08-26T19:33:45.725816Z",
     "shell.execute_reply": "2022-08-26T19:33:45.724608Z"
    },
    "papermill": {
     "duration": 6.335706,
     "end_time": "2022-08-26T19:33:45.728915",
     "exception": false,
     "start_time": "2022-08-26T19:33:39.393209",
     "status": "completed"
    },
    "tags": []
   },
   "outputs": [],
   "source": [
    "from tensorflow import keras\n",
    "import tensorflow as tf"
   ]
  },
  {
   "cell_type": "code",
   "execution_count": 19,
   "id": "d2dd3e4b",
   "metadata": {
    "execution": {
     "iopub.execute_input": "2022-08-26T19:33:45.749354Z",
     "iopub.status.busy": "2022-08-26T19:33:45.748661Z",
     "iopub.status.idle": "2022-08-26T19:33:47.419308Z",
     "shell.execute_reply": "2022-08-26T19:33:47.418249Z"
    },
    "papermill": {
     "duration": 1.684337,
     "end_time": "2022-08-26T19:33:47.422232",
     "exception": false,
     "start_time": "2022-08-26T19:33:45.737895",
     "status": "completed"
    },
    "tags": []
   },
   "outputs": [
    {
     "name": "stderr",
     "output_type": "stream",
     "text": [
      "2022-08-26 19:33:47.392473: I tensorflow/core/common_runtime/process_util.cc:146] Creating new thread pool with default inter op setting: 2. Tune using inter_op_parallelism_threads for best performance.\n"
     ]
    }
   ],
   "source": [
    "model = keras.Sequential(\n",
    "    [\n",
    "        tf.keras.layers.Dense(512, activation=\"relu\", name=\"layer1\"),\n",
    "        tf.keras.layers.Dense(512, activation=\"relu\", name=\"layer2\"),\n",
    "        tf.keras.layers.Dense(2, name=\"layer3\"),\n",
    "    ]\n",
    ")"
   ]
  },
  {
   "cell_type": "code",
   "execution_count": 20,
   "id": "3e437c4e",
   "metadata": {
    "execution": {
     "iopub.execute_input": "2022-08-26T19:33:47.443442Z",
     "iopub.status.busy": "2022-08-26T19:33:47.442214Z",
     "iopub.status.idle": "2022-08-26T19:33:47.468141Z",
     "shell.execute_reply": "2022-08-26T19:33:47.466733Z"
    },
    "papermill": {
     "duration": 0.039743,
     "end_time": "2022-08-26T19:33:47.471109",
     "exception": false,
     "start_time": "2022-08-26T19:33:47.431366",
     "status": "completed"
    },
    "tags": []
   },
   "outputs": [],
   "source": [
    "model.compile(optimizer=\"Adam\", loss=\"mse\", metrics=[\"mae\"])"
   ]
  },
  {
   "cell_type": "code",
   "execution_count": 21,
   "id": "721b4c65",
   "metadata": {
    "execution": {
     "iopub.execute_input": "2022-08-26T19:33:47.491505Z",
     "iopub.status.busy": "2022-08-26T19:33:47.491032Z",
     "iopub.status.idle": "2022-08-26T19:35:46.945090Z",
     "shell.execute_reply": "2022-08-26T19:35:46.943667Z"
    },
    "papermill": {
     "duration": 119.46765,
     "end_time": "2022-08-26T19:35:46.948136",
     "exception": false,
     "start_time": "2022-08-26T19:33:47.480486",
     "status": "completed"
    },
    "tags": []
   },
   "outputs": [
    {
     "name": "stderr",
     "output_type": "stream",
     "text": [
      "2022-08-26 19:33:47.711575: I tensorflow/compiler/mlir/mlir_graph_optimization_pass.cc:185] None of the MLIR Optimization Passes are enabled (registered 2)\n"
     ]
    },
    {
     "name": "stdout",
     "output_type": "stream",
     "text": [
      "Epoch 1/50\n",
      "438/438 [==============================] - 3s 6ms/step - loss: 0.1445 - mae: 0.3016\n",
      "Epoch 2/50\n",
      "438/438 [==============================] - 2s 5ms/step - loss: 0.1007 - mae: 0.2292\n",
      "Epoch 3/50\n",
      "438/438 [==============================] - 2s 5ms/step - loss: 0.0766 - mae: 0.1885\n",
      "Epoch 4/50\n",
      "438/438 [==============================] - 3s 7ms/step - loss: 0.0582 - mae: 0.1550\n",
      "Epoch 5/50\n",
      "438/438 [==============================] - 2s 5ms/step - loss: 0.0451 - mae: 0.1236\n",
      "Epoch 6/50\n",
      "438/438 [==============================] - 2s 5ms/step - loss: 0.0377 - mae: 0.1015\n",
      "Epoch 7/50\n",
      "438/438 [==============================] - 2s 5ms/step - loss: 0.0350 - mae: 0.0923\n",
      "Epoch 8/50\n",
      "438/438 [==============================] - 2s 5ms/step - loss: 0.0336 - mae: 0.0886\n",
      "Epoch 9/50\n",
      "438/438 [==============================] - 2s 5ms/step - loss: 0.0319 - mae: 0.0842\n",
      "Epoch 10/50\n",
      "438/438 [==============================] - 2s 5ms/step - loss: 0.0314 - mae: 0.0832\n",
      "Epoch 11/50\n",
      "438/438 [==============================] - 2s 5ms/step - loss: 0.0326 - mae: 0.0872\n",
      "Epoch 12/50\n",
      "438/438 [==============================] - 2s 5ms/step - loss: 0.0309 - mae: 0.0817\n",
      "Epoch 13/50\n",
      "438/438 [==============================] - 2s 5ms/step - loss: 0.0304 - mae: 0.0782\n",
      "Epoch 14/50\n",
      "438/438 [==============================] - 2s 5ms/step - loss: 0.0295 - mae: 0.0753\n",
      "Epoch 15/50\n",
      "438/438 [==============================] - 2s 6ms/step - loss: 0.0289 - mae: 0.0729\n",
      "Epoch 16/50\n",
      "438/438 [==============================] - 2s 6ms/step - loss: 0.0286 - mae: 0.0724\n",
      "Epoch 17/50\n",
      "438/438 [==============================] - 3s 6ms/step - loss: 0.0285 - mae: 0.0733\n",
      "Epoch 18/50\n",
      "438/438 [==============================] - 3s 6ms/step - loss: 0.0280 - mae: 0.0709\n",
      "Epoch 19/50\n",
      "438/438 [==============================] - 2s 5ms/step - loss: 0.0283 - mae: 0.0722\n",
      "Epoch 20/50\n",
      "438/438 [==============================] - 2s 5ms/step - loss: 0.0279 - mae: 0.0700\n",
      "Epoch 21/50\n",
      "438/438 [==============================] - 2s 5ms/step - loss: 0.0276 - mae: 0.0699\n",
      "Epoch 22/50\n",
      "438/438 [==============================] - 2s 5ms/step - loss: 0.0282 - mae: 0.0726\n",
      "Epoch 23/50\n",
      "438/438 [==============================] - 2s 6ms/step - loss: 0.0278 - mae: 0.0715\n",
      "Epoch 24/50\n",
      "438/438 [==============================] - 2s 5ms/step - loss: 0.0271 - mae: 0.0683\n",
      "Epoch 25/50\n",
      "438/438 [==============================] - 2s 5ms/step - loss: 0.0272 - mae: 0.0696\n",
      "Epoch 26/50\n",
      "438/438 [==============================] - 2s 5ms/step - loss: 0.0268 - mae: 0.0679\n",
      "Epoch 27/50\n",
      "438/438 [==============================] - 2s 5ms/step - loss: 0.0269 - mae: 0.0682\n",
      "Epoch 28/50\n",
      "438/438 [==============================] - 2s 5ms/step - loss: 0.0267 - mae: 0.0670\n",
      "Epoch 29/50\n",
      "438/438 [==============================] - 2s 6ms/step - loss: 0.0268 - mae: 0.0674\n",
      "Epoch 30/50\n",
      "438/438 [==============================] - 2s 5ms/step - loss: 0.0270 - mae: 0.0680\n",
      "Epoch 31/50\n",
      "438/438 [==============================] - 3s 7ms/step - loss: 0.0267 - mae: 0.0674\n",
      "Epoch 32/50\n",
      "438/438 [==============================] - 2s 6ms/step - loss: 0.0266 - mae: 0.0672\n",
      "Epoch 33/50\n",
      "438/438 [==============================] - 2s 5ms/step - loss: 0.0263 - mae: 0.0663\n",
      "Epoch 34/50\n",
      "438/438 [==============================] - 2s 5ms/step - loss: 0.0267 - mae: 0.0673\n",
      "Epoch 35/50\n",
      "438/438 [==============================] - 2s 5ms/step - loss: 0.0264 - mae: 0.0665\n",
      "Epoch 36/50\n",
      "438/438 [==============================] - 2s 5ms/step - loss: 0.0260 - mae: 0.0635\n",
      "Epoch 37/50\n",
      "438/438 [==============================] - 2s 5ms/step - loss: 0.0262 - mae: 0.0653\n",
      "Epoch 38/50\n",
      "438/438 [==============================] - 2s 5ms/step - loss: 0.0263 - mae: 0.0660\n",
      "Epoch 39/50\n",
      "438/438 [==============================] - 2s 5ms/step - loss: 0.0266 - mae: 0.0675\n",
      "Epoch 40/50\n",
      "438/438 [==============================] - 2s 5ms/step - loss: 0.0261 - mae: 0.0646\n",
      "Epoch 41/50\n",
      "438/438 [==============================] - 2s 5ms/step - loss: 0.0263 - mae: 0.0653\n",
      "Epoch 42/50\n",
      "438/438 [==============================] - 2s 5ms/step - loss: 0.0260 - mae: 0.0637\n",
      "Epoch 43/50\n",
      "438/438 [==============================] - 2s 5ms/step - loss: 0.0261 - mae: 0.0647\n",
      "Epoch 44/50\n",
      "438/438 [==============================] - 3s 7ms/step - loss: 0.0258 - mae: 0.0636\n",
      "Epoch 45/50\n",
      "438/438 [==============================] - 2s 5ms/step - loss: 0.0259 - mae: 0.0635\n",
      "Epoch 46/50\n",
      "438/438 [==============================] - 2s 5ms/step - loss: 0.0258 - mae: 0.0638\n",
      "Epoch 47/50\n",
      "438/438 [==============================] - 2s 5ms/step - loss: 0.0259 - mae: 0.0644\n",
      "Epoch 48/50\n",
      "438/438 [==============================] - 2s 5ms/step - loss: 0.0258 - mae: 0.0629\n",
      "Epoch 49/50\n",
      "438/438 [==============================] - 2s 5ms/step - loss: 0.0258 - mae: 0.0628\n",
      "Epoch 50/50\n",
      "438/438 [==============================] - 2s 5ms/step - loss: 0.0260 - mae: 0.0653\n"
     ]
    }
   ],
   "source": [
    "history=model.fit(X_train, y_train, epochs=50, verbose=1)"
   ]
  },
  {
   "cell_type": "code",
   "execution_count": 22,
   "id": "7c96a8c0",
   "metadata": {
    "execution": {
     "iopub.execute_input": "2022-08-26T19:35:47.253769Z",
     "iopub.status.busy": "2022-08-26T19:35:47.253359Z",
     "iopub.status.idle": "2022-08-26T19:35:48.180462Z",
     "shell.execute_reply": "2022-08-26T19:35:48.178861Z"
    },
    "papermill": {
     "duration": 1.082267,
     "end_time": "2022-08-26T19:35:48.184239",
     "exception": false,
     "start_time": "2022-08-26T19:35:47.101972",
     "status": "completed"
    },
    "tags": []
   },
   "outputs": [
    {
     "name": "stdout",
     "output_type": "stream",
     "text": [
      "188/188 [==============================] - 1s 3ms/step - loss: 0.1491 - mae: 0.2253\n"
     ]
    }
   ],
   "source": [
    "loss, acc = model.evaluate(X_test, y_test, verbose=1)"
   ]
  },
  {
   "cell_type": "code",
   "execution_count": 23,
   "id": "c6873cd4",
   "metadata": {
    "execution": {
     "iopub.execute_input": "2022-08-26T19:35:48.489855Z",
     "iopub.status.busy": "2022-08-26T19:35:48.488651Z",
     "iopub.status.idle": "2022-08-26T19:35:48.688370Z",
     "shell.execute_reply": "2022-08-26T19:35:48.686696Z"
    },
    "papermill": {
     "duration": 0.353515,
     "end_time": "2022-08-26T19:35:48.691398",
     "exception": false,
     "start_time": "2022-08-26T19:35:48.337883",
     "status": "completed"
    },
    "tags": []
   },
   "outputs": [
    {
     "data": {
      "text/plain": [
       "[<matplotlib.lines.Line2D at 0x7f3c7bfab7d0>]"
      ]
     },
     "execution_count": 23,
     "metadata": {},
     "output_type": "execute_result"
    },
    {
     "data": {
      "image/png": "[encoded data removed]",
      "text/plain": [
       "<Figure size 432x288 with 1 Axes>"
      ]
     },
     "metadata": {
      "needs_background": "light"
     },
     "output_type": "display_data"
    }
   ],
   "source": [
    "import matplotlib.pyplot as plt\n",
    "plt.plot(history.history['loss'],label='X_train')\n"
   ]
  }
 ],
 "metadata": {
  "kernelspec": {
   "display_name": "Python 3",
   "language": "python",
   "name": "python3"
  },
  "language_info": {
   "codemirror_mode": {
    "name": "ipython",
    "version": 3
   },
   "file_extension": ".py",
   "mimetype": "text/x-python",
   "name": "python",
   "nbconvert_exporter": "python",
   "pygments_lexer": "ipython3",
   "version": "3.7.12"
  },
  "papermill": {
   "default_parameters": {},
   "duration": 443.690294,
   "end_time": "2022-08-26T19:35:52.329449",
   "environment_variables": {},
   "exception": null,
   "input_path": "__notebook__.ipynb",
   "output_path": "__notebook__.ipynb",
   "parameters": {},
   "start_time": "2022-08-26T19:28:28.639155",
   "version": "2.3.4"
  }
 },
 "nbformat": 4,
 "nbformat_minor": 5
}
